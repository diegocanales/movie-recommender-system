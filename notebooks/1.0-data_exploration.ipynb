{
 "cells": [
  {
   "cell_type": "code",
   "execution_count": null,
   "metadata": {},
   "outputs": [],
   "source": [
    "%load_ext autoreload\n",
    "%autoreload 2"
   ]
  },
  {
   "cell_type": "code",
   "execution_count": null,
   "metadata": {},
   "outputs": [],
   "source": [
    "from ydata_profiling import ProfileReport\n",
    "from movie_recommender_system import paths\n",
    "import pandas as pd"
   ]
  },
  {
   "cell_type": "code",
   "execution_count": null,
   "metadata": {},
   "outputs": [],
   "source": [
    "movie_data_path = paths.data_raw_dir() / \"tmdb_5000_movie_dataset/movies.csv\"\n",
    "credits_data_path = paths.data_raw_dir() / \"tmdb_5000_movie_dataset/credits.csv\""
   ]
  },
  {
   "cell_type": "code",
   "execution_count": null,
   "metadata": {},
   "outputs": [],
   "source": [
    "df_movies = pd.read_csv(movie_data_path)\n",
    "profile_movies = ProfileReport(df_movies, title=\"Profiling Report\")\n",
    "profile_movies.to_file(paths.reports_dir() / \"00_raw_movies.html\")"
   ]
  },
  {
   "cell_type": "code",
   "execution_count": null,
   "metadata": {},
   "outputs": [],
   "source": [
    "df_credits = pd.read_csv(credits_data_path)\n",
    "profile_credits = ProfileReport(df_credits, title=\"Profiling Report\")\n",
    "profile_credits.to_file(paths.reports_dir() / \"00_raw_credits.html\")"
   ]
  },
  {
   "cell_type": "code",
   "execution_count": null,
   "metadata": {},
   "outputs": [],
   "source": [
    "df_dataset = df_movies.merge(df_credits, on=\"title\")"
   ]
  },
  {
   "cell_type": "code",
   "execution_count": null,
   "metadata": {},
   "outputs": [],
   "source": [
    "list(df_dataset.columns)"
   ]
  },
  {
   "cell_type": "code",
   "execution_count": null,
   "metadata": {},
   "outputs": [],
   "source": [
    "df_dataset = df_dataset[['movie_id','title','overview','genres','keywords','cast','crew']]"
   ]
  },
  {
   "cell_type": "code",
   "execution_count": null,
   "metadata": {},
   "outputs": [],
   "source": [
    "df_dataset.sample(5, random_state=1)"
   ]
  },
  {
   "cell_type": "code",
   "execution_count": null,
   "metadata": {},
   "outputs": [],
   "source": [
    "df_dataset.isnull().sum()"
   ]
  },
  {
   "cell_type": "code",
   "execution_count": null,
   "metadata": {},
   "outputs": [],
   "source": [
    "df_dataset_valid = df_dataset.dropna()"
   ]
  },
  {
   "cell_type": "code",
   "execution_count": null,
   "metadata": {},
   "outputs": [],
   "source": [
    "import ast\n",
    "\n",
    "def extract_data_from_dict_string(string_dict, key) -> list:\n",
    "    value_list = []\n",
    "    for item in ast.literal_eval(string_dict):\n",
    "        value_list.append(item[key])\n",
    "    return value_list"
   ]
  },
  {
   "cell_type": "code",
   "execution_count": null,
   "metadata": {},
   "outputs": [],
   "source": [
    "df_dataset_valid.loc[:, 'genres'] = df_dataset_valid['genres'].apply(lambda x: extract_data_from_dict_string(x, 'name'))\n",
    "df_dataset_valid.loc[:, 'keywords'] = df_dataset_valid['keywords'].apply(lambda x: extract_data_from_dict_string(x, 'name'))\n"
   ]
  },
  {
   "cell_type": "code",
   "execution_count": null,
   "metadata": {},
   "outputs": [],
   "source": [
    "df_dataset_valid.sample(5, random_state=1)"
   ]
  },
  {
   "cell_type": "code",
   "execution_count": null,
   "metadata": {},
   "outputs": [],
   "source": [
    "ast.literal_eval(df_dataset_valid[\"cast\"][0])[0]"
   ]
  },
  {
   "cell_type": "code",
   "execution_count": null,
   "metadata": {},
   "outputs": [],
   "source": [
    "ast.literal_eval(df_dataset_valid[\"crew\"][0])"
   ]
  },
  {
   "cell_type": "code",
   "execution_count": null,
   "metadata": {},
   "outputs": [],
   "source": [
    "def extract_cast(string_dict: str, key: str, count: int) -> list:\n",
    "    value_list = []\n",
    "    counter = 0\n",
    "    for item in ast.literal_eval(string_dict):\n",
    "        if counter == count:\n",
    "            break\n",
    "        else:\n",
    "            value_list.append(item[key])\n",
    "            counter += 1\n",
    "    return value_list"
   ]
  },
  {
   "cell_type": "code",
   "execution_count": null,
   "metadata": {},
   "outputs": [],
   "source": [
    "cast_count = 3\n",
    "df_dataset_valid.loc[:, 'cast'] = df_dataset_valid['cast'].apply(lambda x: extract_cast(x, 'name', cast_count))"
   ]
  },
  {
   "cell_type": "code",
   "execution_count": null,
   "metadata": {},
   "outputs": [],
   "source": [
    "def extract_crew(string_dict: str, key: str, crew_jobs: list) -> list:\n",
    "    value_list = []\n",
    "    for item in ast.literal_eval(string_dict):\n",
    "        if item['job'] in crew_jobs:\n",
    "            value_list.append(item[key])\n",
    "    return value_list"
   ]
  },
  {
   "cell_type": "code",
   "execution_count": null,
   "metadata": {},
   "outputs": [],
   "source": [
    "crew_jobs_list = ['Director', 'Producer', 'Screenplay']\n",
    "df_dataset_valid.loc[:, 'crew'] = df_dataset_valid['crew'].apply(lambda x: extract_crew(x, 'name', crew_jobs_list))"
   ]
  },
  {
   "cell_type": "code",
   "execution_count": null,
   "metadata": {},
   "outputs": [],
   "source": [
    "df_dataset_valid.sample(5, random_state=1)"
   ]
  },
  {
   "cell_type": "code",
   "execution_count": null,
   "metadata": {},
   "outputs": [],
   "source": [
    "def remove_space(string_list: list) -> list:\n",
    "    return [x.replace(\" \", \"\") for x in string_list]\n",
    "\n",
    "df_dataset_valid.loc[:, 'genres'] = df_dataset_valid['genres'].apply(lambda x: remove_space(x))"
   ]
  }
 ],
 "metadata": {
  "kernelspec": {
   "display_name": "movie_recommender_system",
   "language": "python",
   "name": "python3"
  },
  "language_info": {
   "codemirror_mode": {
    "name": "ipython",
    "version": 3
   },
   "file_extension": ".py",
   "mimetype": "text/x-python",
   "name": "python",
   "nbconvert_exporter": "python",
   "pygments_lexer": "ipython3",
   "version": "3.9.19"
  }
 },
 "nbformat": 4,
 "nbformat_minor": 2
}
